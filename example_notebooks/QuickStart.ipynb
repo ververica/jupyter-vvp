{
 "cells": [
  {
   "cell_type": "markdown",
   "metadata": {},
   "source": [
    "# Jupyter Flink SQL - Quickstart\n",
    "\n",
    "This example shows how to interact with Ververica Platform using the Jupyter Ververica Platform magics. We will connect to a Ververica Platform installation and create a self-contained SQL job.\n",
    "\n",
    "First we need to load the module. Make sure you install the jupyter-vvp package first."
   ]
  },
  {
   "cell_type": "code",
   "execution_count": 1,
   "metadata": {},
   "outputs": [
    {
     "name": "stdout",
     "output_type": "stream",
     "text": [
      "Loading jupytervvp.\n",
      "Registering jupytervvp for vvp.\n"
     ]
    }
   ],
   "source": [
    "%load_ext jupytervvp"
   ]
  },
  {
   "cell_type": "markdown",
   "metadata": {},
   "source": [
    "Next we connect to a Ververica Platform installation. Replace the hostname and port as required.\n",
    "Use `-S` if your Ververica Platform uses HTTPS.\n",
    "Use `-k <API_TOKEN>` to provide an API token for authentication (or `-K` if you don't want to have the token in the notebook)."
   ]
  },
  {
   "cell_type": "code",
   "execution_count": 10,
   "metadata": {},
   "outputs": [
    {
     "data": {
      "text/plain": [
       "<jupytervvp.vvpsession.VvpSession at 0x19df9b6cf40>"
      ]
     },
     "execution_count": 10,
     "metadata": {},
     "output_type": "execute_result"
    }
   ],
   "source": [
    "%connect_vvp -n default localhost -p 8080 -s mySession --force"
   ]
  },
  {
   "cell_type": "markdown",
   "metadata": {},
   "source": [
    "Now we will create our source table. We will use the `datagen` connector, that will produce mock data.\n",
    "\n",
    "Find more information on supported connectors in the [Ververica Platform documentation](https://docs.ververica.com/sql-eap/sql_development/table_view.html#supported-connectors)."
   ]
  },
  {
   "cell_type": "code",
   "execution_count": 27,
   "metadata": {},
   "outputs": [
    {
     "data": {
      "text/plain": [
       "{'result': 'RESULT_SUCCESS'}"
      ]
     },
     "execution_count": 27,
     "metadata": {},
     "output_type": "execute_result"
    }
   ],
   "source": [
    "%%flink_sql\n",
    "CREATE TABLE my_source_table (\n",
    "id INT,\n",
    "data STRING\n",
    ") WITH (\n",
    "'connector' = 'datagen'\n",
    ")"
   ]
  },
  {
   "cell_type": "markdown",
   "metadata": {},
   "source": [
    "We can now verify that the table was created as specified."
   ]
  },
  {
   "cell_type": "code",
   "execution_count": 28,
   "metadata": {},
   "outputs": [
    {
     "data": {
      "text/html": [
       "<div>\n",
       "<style scoped>\n",
       "    .dataframe tbody tr th:only-of-type {\n",
       "        vertical-align: middle;\n",
       "    }\n",
       "\n",
       "    .dataframe tbody tr th {\n",
       "        vertical-align: top;\n",
       "    }\n",
       "\n",
       "    .dataframe thead th {\n",
       "        text-align: right;\n",
       "    }\n",
       "</style>\n",
       "<table border=\"1\" class=\"dataframe\">\n",
       "  <thead>\n",
       "    <tr style=\"text-align: right;\">\n",
       "      <th></th>\n",
       "      <th>table name</th>\n",
       "    </tr>\n",
       "  </thead>\n",
       "  <tbody>\n",
       "    <tr>\n",
       "      <th>0</th>\n",
       "      <td>my_source_table</td>\n",
       "    </tr>\n",
       "  </tbody>\n",
       "</table>\n",
       "</div>"
      ],
      "text/plain": [
       "        table name\n",
       "0  my_source_table"
      ]
     },
     "execution_count": 28,
     "metadata": {},
     "output_type": "execute_result"
    }
   ],
   "source": [
    "%%flink_sql\n",
    "SHOW TABLES"
   ]
  },
  {
   "cell_type": "code",
   "execution_count": 31,
   "metadata": {},
   "outputs": [
    {
     "data": {
      "text/html": [
       "<div>\n",
       "<style scoped>\n",
       "    .dataframe tbody tr th:only-of-type {\n",
       "        vertical-align: middle;\n",
       "    }\n",
       "\n",
       "    .dataframe tbody tr th {\n",
       "        vertical-align: top;\n",
       "    }\n",
       "\n",
       "    .dataframe thead th {\n",
       "        text-align: right;\n",
       "    }\n",
       "</style>\n",
       "<table border=\"1\" class=\"dataframe\">\n",
       "  <thead>\n",
       "    <tr style=\"text-align: right;\">\n",
       "      <th></th>\n",
       "      <th>name</th>\n",
       "      <th>type</th>\n",
       "      <th>null</th>\n",
       "      <th>key</th>\n",
       "      <th>computed column</th>\n",
       "      <th>watermark</th>\n",
       "    </tr>\n",
       "  </thead>\n",
       "  <tbody>\n",
       "    <tr>\n",
       "      <th>0</th>\n",
       "      <td>id</td>\n",
       "      <td>INT</td>\n",
       "      <td>true</td>\n",
       "      <td></td>\n",
       "      <td></td>\n",
       "      <td></td>\n",
       "    </tr>\n",
       "    <tr>\n",
       "      <th>1</th>\n",
       "      <td>data</td>\n",
       "      <td>STRING</td>\n",
       "      <td>true</td>\n",
       "      <td></td>\n",
       "      <td></td>\n",
       "      <td></td>\n",
       "    </tr>\n",
       "  </tbody>\n",
       "</table>\n",
       "</div>"
      ],
      "text/plain": [
       "   name    type  null key computed column watermark\n",
       "0    id     INT  true                              \n",
       "1  data  STRING  true                              "
      ]
     },
     "execution_count": 31,
     "metadata": {},
     "output_type": "execute_result"
    }
   ],
   "source": [
    "%%flink_sql\n",
    "DESCRIBE my_source_table"
   ]
  },
  {
   "cell_type": "markdown",
   "metadata": {},
   "source": [
    "Finally we will create a temporary `blackhole` sink table and create a job that will connect the source to the sink.\n",
    "\n",
    "When you run this cell, the Jupyter Ververica Platform magic will recognize the job and offer you buttons to `Cancel`, `Start` or `Delete` the job from within the Notebook. You will need to press `Start` to run the job.\n",
    "\n",
    "Of course, you can also go to the Ververica Platform UI at this point to interact with the newly created job, a link to the UI is also included in the output of the cell."
   ]
  },
  {
   "cell_type": "code",
   "execution_count": 26,
   "metadata": {},
   "outputs": [
    {
     "data": {
      "application/vnd.jupyter.widget-view+json": {
       "model_id": "e0c26fcb91c94f46b36f087c93fd1d9a",
       "version_major": 2,
       "version_minor": 0
      },
      "text/plain": [
       "HBox(children=(Button(button_style='info', description='Transitioning', disabled=True, icon='refresh', style=B…"
      ]
     },
     "metadata": {},
     "output_type": "display_data"
    },
    {
     "data": {
      "application/vnd.jupyter.widget-view+json": {
       "model_id": "ddfa775895b04381bef6896444e92031",
       "version_major": 2,
       "version_minor": 0
      },
      "text/plain": [
       "Output()"
      ]
     },
     "metadata": {},
     "output_type": "display_data"
    }
   ],
   "source": [
    "%%flink_sql\n",
    "CREATE TEMPORARY TABLE my_sink_table (\n",
    "data STRING\n",
    ") WITH (\n",
    "'connector' = 'blackhole'\n",
    ");\n",
    "INSERT INTO my_sink_table SELECT data FROM my_source_table"
   ]
  }
 ],
 "metadata": {
  "kernelspec": {
   "display_name": "FlinkSql",
   "language": "python",
   "name": "FlinkSql"
  },
  "language_info": {
   "codemirror_mode": {
    "name": "ipython",
    "version": 3
   },
   "file_extension": ".py",
   "mimetype": "text/x-python",
   "name": "python",
   "nbconvert_exporter": "python",
   "pygments_lexer": "ipython3",
   "version": "3.8.5"
  }
 },
 "nbformat": 4,
 "nbformat_minor": 4
}
