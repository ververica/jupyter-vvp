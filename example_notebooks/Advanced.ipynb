{
 "cells": [
  {
   "cell_type": "markdown",
   "metadata": {},
   "source": [
    "# Advanced features\n",
    "\n",
    "This notebook will demonstrate a few more advanced features of the Jupyter Ververica Platform integration.\n",
    "\n",
    "First we again load the module and connect to an Ververica Platform instance. Make sure you installed `jupyter-vvp` on the kernel you are using."
   ]
  },
  {
   "cell_type": "code",
   "execution_count": 3,
   "metadata": {
    "pycharm": {
     "name": "#%%\n"
    }
   },
   "outputs": [
    {
     "name": "stdout",
     "output_type": "stream",
     "text": [
      "Registering jupytervvp for vvp.\n"
     ]
    },
    {
     "data": {
      "text/plain": [
       "<jupytervvp.vvpsession.VvpSession at 0x298531de790>"
      ]
     },
     "execution_count": 3,
     "metadata": {},
     "output_type": "execute_result"
    }
   ],
   "source": [
    "%reload_ext jupytervvp\n",
    "%connect_vvp -n default localhost -p 8080 -s mySession --force"
   ]
  },
  {
   "cell_type": "markdown",
   "metadata": {},
   "source": [
    "Next we create a table, this time we are using the Kafka connector, which has a few options that need to be set.\n",
    "\n",
    "Refer to the [Ververica Platform documentation](https://docs.ververica.com/sql-eap/sql_development/table_view.html#supported-connectors) for further information."
   ]
  },
  {
   "cell_type": "code",
   "execution_count": 4,
   "metadata": {},
   "outputs": [
    {
     "data": {
      "text/plain": [
       "{'result': 'RESULT_SUCCESS'}"
      ]
     },
     "execution_count": 4,
     "metadata": {},
     "output_type": "execute_result"
    }
   ],
   "source": [
    "%%flink_sql\n",
    "CREATE TABLE `kafka_table` (id int)\n",
    "COMMENT 'SomeComment'\n",
    "WITH (\n",
    "    'connector' = 'kafka',\n",
    "    'topic' = 'topic',\n",
    "    'properties.bootstrap.servers' = 'localhost:9092',\n",
    "    'properties.group.id' = 'orderGroup',\n",
    "    'format' = 'csv'\n",
    ")"
   ]
  },
  {
   "cell_type": "markdown",
   "metadata": {},
   "source": [
    "Of course, tables can also be altered. Here we use the `ALTER TABLE` statement to change the topic of the `kafka_table`."
   ]
  },
  {
   "cell_type": "code",
   "execution_count": 5,
   "metadata": {
    "pycharm": {
     "name": "#%%\n"
    }
   },
   "outputs": [
    {
     "data": {
      "text/plain": [
       "{'result': 'RESULT_SUCCESS'}"
      ]
     },
     "execution_count": 5,
     "metadata": {},
     "output_type": "execute_result"
    }
   ],
   "source": [
    "%%flink_sql\n",
    "ALTER TABLE `kafka_table` SET (\n",
    "    'connector' = 'kafka',\n",
    "    'topic' = 'other_topic',\n",
    "    'properties.bootstrap.servers' = 'localhost:9092',\n",
    "    'properties.group.id' = 'orderGroup',\n",
    "    'format' = 'csv'\n",
    ")"
   ]
  },
  {
   "cell_type": "markdown",
   "metadata": {},
   "source": [
    "Variables can also be used:"
   ]
  },
  {
   "cell_type": "code",
   "execution_count": 6,
   "metadata": {
    "pycharm": {
     "name": "#%%\n"
    }
   },
   "outputs": [],
   "source": [
    "topic_name = \"myTopic\"\n",
    "parallelism = 2\n",
    "deployment_name = \"testName\""
   ]
  },
  {
   "cell_type": "code",
   "execution_count": 7,
   "metadata": {
    "pycharm": {
     "name": "#%%\n"
    }
   },
   "outputs": [
    {
     "data": {
      "text/plain": [
       "{'result': 'RESULT_SUCCESS'}"
      ]
     },
     "execution_count": 7,
     "metadata": {},
     "output_type": "execute_result"
    }
   ],
   "source": [
    "%%flink_sql\n",
    "CREATE TABLE `var_table` (id int)\n",
    "COMMENT 'SomeComment'\n",
    "WITH (\n",
    "    'connector' = 'kafka',\n",
    "    'topic' = '{topic_name}',\n",
    "    'properties.bootstrap.servers' = 'localhost:9092',\n",
    "    'properties.group.id' = 'orderGroup',\n",
    "    'format' = 'csv'\n",
    ")"
   ]
  },
  {
   "cell_type": "markdown",
   "metadata": {},
   "source": [
    "Deployment parameters (for e.g., `INSERT INTO` statements) can be set as a Python dictionary object.\n",
    "Notice that variables here are not interpolated and usual Python syntax can be used:"
   ]
  },
  {
   "cell_type": "code",
   "execution_count": 8,
   "metadata": {},
   "outputs": [],
   "source": [
    "my_deployment_parameters = {\n",
    "        \"metadata.name\": \"{}\".format(deployment_name),\n",
    "        \"spec.template.spec.parallelism\": parallelism,\n",
    "        \"spec.upradeStrategy.kind\": \"STATEFUL\",\n",
    "        \"spec.restoreStrategy.kind\": \"LATEST_STATE\",\n",
    "        \"spec.template.spec.flinkConfiguration.state.backend\": \"filesystem\",\n",
    "        \"spec.template.spec.flinkConfiguration.taskmanager.memory.managed.fraction\": \"0.1\",\n",
    "        \"spec.template.spec.flinkConfiguration.high-availability\": \"vvp-kubernetes\"\n",
    "}"
   ]
  },
  {
   "cell_type": "markdown",
   "metadata": {},
   "source": [
    "The following succeeds only when a default deployment target has been set up using the platform,\n",
    "or when a target has been set up and is specified via a settings object."
   ]
  },
  {
   "cell_type": "code",
   "execution_count": 9,
   "metadata": {
    "pycharm": {
     "name": "#%%\n"
    }
   },
   "outputs": [],
   "source": [
    "%%flink_sql -p my_deployment_parameters -d\n",
    "INSERT INTO var_table SELECT * FROM kafka_table"
   ]
  },
  {
   "cell_type": "markdown",
   "metadata": {},
   "source": [
    "That concludes this example and we will clean up the tables we created."
   ]
  },
  {
   "cell_type": "code",
   "execution_count": 10,
   "metadata": {
    "pycharm": {
     "name": "#%%\n"
    }
   },
   "outputs": [
    {
     "data": {
      "text/plain": [
       "{'result': 'RESULT_SUCCESS'}"
      ]
     },
     "execution_count": 10,
     "metadata": {},
     "output_type": "execute_result"
    }
   ],
   "source": [
    "%%flink_sql\n",
    "DROP TABLE `kafka_table`"
   ]
  },
  {
   "cell_type": "code",
   "execution_count": 11,
   "metadata": {
    "pycharm": {
     "name": "#%%\n"
    }
   },
   "outputs": [
    {
     "data": {
      "text/plain": [
       "{'result': 'RESULT_SUCCESS'}"
      ]
     },
     "execution_count": 11,
     "metadata": {},
     "output_type": "execute_result"
    }
   ],
   "source": [
    "%%flink_sql\n",
    "DROP TABLE `var_table`"
   ]
  },
  {
   "cell_type": "code",
   "execution_count": 13,
   "metadata": {
    "pycharm": {
     "name": "#%%\n"
    }
   },
   "outputs": [
    {
     "data": {
      "text/html": [
       "<div>\n",
       "<style scoped>\n",
       "    .dataframe tbody tr th:only-of-type {\n",
       "        vertical-align: middle;\n",
       "    }\n",
       "\n",
       "    .dataframe tbody tr th {\n",
       "        vertical-align: top;\n",
       "    }\n",
       "\n",
       "    .dataframe thead th {\n",
       "        text-align: right;\n",
       "    }\n",
       "</style>\n",
       "<table border=\"1\" class=\"dataframe\">\n",
       "  <thead>\n",
       "    <tr style=\"text-align: right;\">\n",
       "      <th></th>\n",
       "      <th>table name</th>\n",
       "    </tr>\n",
       "  </thead>\n",
       "  <tbody>\n",
       "  </tbody>\n",
       "</table>\n",
       "</div>"
      ],
      "text/plain": [
       "Empty DataFrame\n",
       "Columns: [table name]\n",
       "Index: []"
      ]
     },
     "execution_count": 13,
     "metadata": {},
     "output_type": "execute_result"
    }
   ],
   "source": [
    "%%flink_sql\n",
    "SHOW TABLES"
   ]
  }
 ],
 "metadata": {
  "kernelspec": {
   "display_name": "FlinkSql",
   "language": "python",
   "name": "FlinkSql"
  },
  "language_info": {
   "codemirror_mode": {
    "name": "ipython",
    "version": 3
   },
   "file_extension": ".py",
   "mimetype": "text/x-python",
   "name": "python",
   "nbconvert_exporter": "python",
   "pygments_lexer": "ipython3",
   "version": "3.8.5"
  }
 },
 "nbformat": 4,
 "nbformat_minor": 1
}
